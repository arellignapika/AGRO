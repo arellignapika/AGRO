{
 "cells": [
  {
   "cell_type": "code",
   "execution_count": 1,
   "id": "86b3f947",
   "metadata": {},
   "outputs": [
    {
     "name": "stdout",
     "output_type": "stream",
     "text": [
      "WARNING:tensorflow:From C:\\Users\\gnapika\\AppData\\Local\\Programs\\Python\\Python310\\lib\\site-packages\\keras\\src\\losses.py:2976: The name tf.losses.sparse_softmax_cross_entropy is deprecated. Please use tf.compat.v1.losses.sparse_softmax_cross_entropy instead.\n",
      "\n"
     ]
    }
   ],
   "source": [
    "import tensorflow as tf\n",
    "from tensorflow.keras import layers, models\n",
    "from tensorflow.keras.preprocessing.image import ImageDataGenerator\n",
    "from tensorflow.keras.layers import Input\n",
    "import random\n",
    "import numpy as np"
   ]
  },
  {
   "cell_type": "code",
   "execution_count": 2,
   "id": "2b832527",
   "metadata": {},
   "outputs": [
    {
     "name": "stdout",
     "output_type": "stream",
     "text": [
      "Found 24271 images belonging to 9 classes.\n",
      "Found 1782 images belonging to 9 classes.\n"
     ]
    }
   ],
   "source": [
    "\n",
    "train_path =  './augmented_data/train'\n",
    "test_path =  './augmented_data/validation'\n",
    "\n",
    "# Data augmentation for the training set\n",
    "train_datagen = ImageDataGenerator(\n",
    "    rescale=1./255,\n",
    "    shear_range=0.2,\n",
    "    zoom_range=0.2,\n",
    "    horizontal_flip=True\n",
    ")\n",
    "\n",
    "# Rescaling for the test set\n",
    "test_datagen = ImageDataGenerator(rescale=1./255)\n",
    "\n",
    "# Load the training set\n",
    "train_set = train_datagen.flow_from_directory(\n",
    "    train_path,\n",
    "    target_size=(224, 224),  # Adjust size based on your model requirements\n",
    "    batch_size=40,\n",
    "    class_mode='categorical'\n",
    ")\n",
    "\n",
    "# Load the test set\n",
    "test_set = test_datagen.flow_from_directory(\n",
    "    test_path,\n",
    "    target_size=(224, 224),\n",
    "    batch_size=40,\n",
    "    class_mode='categorical'\n",
    ")\n"
   ]
  },
  {
   "cell_type": "code",
   "execution_count": 3,
   "id": "f3d8286f",
   "metadata": {},
   "outputs": [
    {
     "name": "stdout",
     "output_type": "stream",
     "text": [
      "WARNING:tensorflow:From C:\\Users\\gnapika\\AppData\\Local\\Programs\\Python\\Python310\\lib\\site-packages\\keras\\src\\backend.py:1398: The name tf.executing_eagerly_outside_functions is deprecated. Please use tf.compat.v1.executing_eagerly_outside_functions instead.\n",
      "\n",
      "WARNING:tensorflow:From C:\\Users\\gnapika\\AppData\\Local\\Programs\\Python\\Python310\\lib\\site-packages\\keras\\src\\layers\\normalization\\batch_normalization.py:979: The name tf.nn.fused_batch_norm is deprecated. Please use tf.compat.v1.nn.fused_batch_norm instead.\n",
      "\n"
     ]
    }
   ],
   "source": [
    "def build_resnet_model(input_shape, num_classes):\n",
    "    input_layer = Input(shape=input_shape)\n",
    "    \n",
    "    # Initial Convolution\n",
    "    x = layers.Conv2D(64, (7, 7), strides=(2, 2), padding='valid')(input_layer)\n",
    "    x = layers.BatchNormalization()(x)\n",
    "    x = layers.Activation('relu')(x)\n",
    "    x = layers.MaxPooling2D((3, 3), strides=(2, 2), padding='same')(x)\n",
    "\n",
    "    # Residual Blocks\n",
    "    for _ in range(3):\n",
    "        x = residual_block(x, 64)\n",
    "\n",
    "    for downsample in [True, False]:\n",
    "        x = residual_block(x, 128, downsample)\n",
    "\n",
    "    for downsample in [True, False]:\n",
    "        x = residual_block(x, 256, downsample)\n",
    "\n",
    "    for downsample in [True, False]:\n",
    "        x = residual_block(x, 512, downsample)\n",
    "\n",
    "    # Global Average Pooling\n",
    "    x = layers.GlobalAveragePooling2D()(x)\n",
    "\n",
    "    # Fully Connected Layer\n",
    "    output_layer = layers.Dense(num_classes, activation='softmax')(x)\n",
    "\n",
    "    model = models.Model(inputs=input_layer, outputs=output_layer)\n",
    "    return model\n",
    "\n",
    "def residual_block(x, filters, downsample=False):\n",
    "    shortcut = x\n",
    "\n",
    "    # First Convolution\n",
    "    x = layers.Conv2D(filters, (3, 3), strides=(1 if not downsample else 2, 1 if not downsample else 2), padding='same')(x)\n",
    "    x = layers.BatchNormalization()(x)\n",
    "    x = layers.Activation('relu')(x)\n",
    "\n",
    "    # Second Convolution\n",
    "    x = layers.Conv2D(filters, (3, 3), strides=(1, 1), padding='same')(x)\n",
    "    x = layers.BatchNormalization()(x)\n",
    "\n",
    "    # Shortcut connection\n",
    "    if downsample:\n",
    "        shortcut = layers.Conv2D(filters, (1, 1), strides=(2, 2), padding='valid')(shortcut)\n",
    "        shortcut = layers.BatchNormalization()(shortcut)\n",
    "\n",
    "    x = layers.add([x, shortcut])\n",
    "    x = layers.Activation('relu')(x)\n",
    "    \n",
    "    return x\n",
    "\n",
    "# Build the model\n",
    "input_shape = (224, 224, 3)  # Adjust based on your image dimensions\n",
    "num_classes = 9  # Number of classes in your dataset\n",
    "model = build_resnet_model(input_shape, num_classes)\n"
   ]
  },
  {
   "cell_type": "code",
   "execution_count": null,
   "id": "e11cdd82",
   "metadata": {},
   "outputs": [
    {
     "name": "stdout",
     "output_type": "stream",
     "text": [
      "WARNING:tensorflow:From C:\\Users\\gnapika\\AppData\\Local\\Programs\\Python\\Python310\\lib\\site-packages\\keras\\src\\optimizers\\__init__.py:309: The name tf.train.Optimizer is deprecated. Please use tf.compat.v1.train.Optimizer instead.\n",
      "\n",
      "Epoch 1/10\n",
      "WARNING:tensorflow:From C:\\Users\\gnapika\\AppData\\Local\\Programs\\Python\\Python310\\lib\\site-packages\\keras\\src\\utils\\tf_utils.py:492: The name tf.ragged.RaggedTensorValue is deprecated. Please use tf.compat.v1.ragged.RaggedTensorValue instead.\n",
      "\n",
      "WARNING:tensorflow:From C:\\Users\\gnapika\\AppData\\Local\\Programs\\Python\\Python310\\lib\\site-packages\\keras\\src\\engine\\base_layer_utils.py:384: The name tf.executing_eagerly_outside_functions is deprecated. Please use tf.compat.v1.executing_eagerly_outside_functions instead.\n",
      "\n",
      "170/607 [=======>......................] - ETA: 34:49 - loss: 1.0576 - accuracy: 0.6513"
     ]
    }
   ],
   "source": [
    "model.compile(optimizer='adam', loss='categorical_crossentropy', metrics=['accuracy'])\n",
    "\n",
    "history = model.fit(\n",
    "    train_set,\n",
    "    epochs=10,  # Adjust based on your requirements\n",
    "    validation_data=test_set\n",
    ")"
   ]
  },
  {
   "cell_type": "code",
   "execution_count": null,
   "id": "ed5cac12",
   "metadata": {},
   "outputs": [],
   "source": [
    "# Evaluate the model on the test set\n",
    "loss, accuracy = model.evaluate(test_set)\n",
    "print(f'Test Loss: {loss}, Test Accuracy: {accuracy}')"
   ]
  },
  {
   "cell_type": "code",
   "execution_count": null,
   "id": "dddaead2",
   "metadata": {},
   "outputs": [],
   "source": [
    "model.compile(optimizer=Adam(learning_rate=0.001), loss='categorical_crossentropy', metrics=['accuracy'])\n",
    "\n",
    "history_1 = model.fit(\n",
    "    train_set,\n",
    "    epochs=10,  # Adjust based on your requirements\n",
    "    validation_data=test_set\n",
    ")\n",
    "loss, accuracy = model.evaluate(test_set)\n",
    "print(f'Test Loss: {loss}, Test Accuracy: {accuracy}')"
   ]
  },
  {
   "cell_type": "code",
   "execution_count": null,
   "id": "48c41451",
   "metadata": {},
   "outputs": [],
   "source": [
    "\n",
    "\n",
    "# Assuming you have already defined the train_set with the appropriate paths and parameters.\n",
    "\n",
    "# Load the class names from the subdirectories in the training set\n",
    "class_names = sorted(train_set.class_indices.keys())\n",
    "\n",
    "# Randomly select 10 images from the training set\n",
    "selected_images = random.sample(train_set.filenames, 10)\n",
    "\n",
    "# Display the selected images\n",
    "plt.figure(figsize=(20, 15))\n",
    "for i, image_path in enumerate(selected_images):\n",
    "    img = plt.imread(os.path.join(train_path, image_path))\n",
    "    plt.subplot(3, 4, i + 1)\n",
    "    plt.imshow(img)\n",
    "    \n",
    "    # Extract class name from the image path\n",
    "    class_name = image_path.split(os.path.sep)[0]\n",
    "    plt.title(f'Class: {class_name}')\n",
    "    plt.axis('off')\n",
    "\n",
    "    # Add some space between sets of 4 images\n",
    "    if (i + 1) % 4 == 0:\n",
    "        plt.subplots_adjust(hspace=0.5)\n",
    "\n",
    "plt.show()"
   ]
  },
  {
   "cell_type": "code",
   "execution_count": null,
   "id": "6e00aa1e",
   "metadata": {},
   "outputs": [],
   "source": [
    "model.compile(optimizer=Adam(learning_rate=0.002), loss='categorical_crossentropy', metrics=['accuracy'])\n",
    "\n",
    "history_1 = model.fit(\n",
    "    train_set,\n",
    "    epochs=10,  # Adjust based on your requirements\n",
    "    validation_data=test_set\n",
    ")\n",
    "loss, accuracy = model.evaluate(test_set)\n",
    "print(f'Test Loss: {loss}, Test Accuracy: {accuracy}')"
   ]
  },
  {
   "cell_type": "code",
   "execution_count": null,
   "id": "e0f72a16",
   "metadata": {},
   "outputs": [],
   "source": [
    "model.compile(optimizer=Adam(learning_rate=0.0025), loss='categorical_crossentropy', metrics=['accuracy'])\n",
    "\n",
    "history_2 = model.fit(\n",
    "    train_set,\n",
    "    epochs=10,  # Adjust based on your requirements\n",
    "    validation_data=test_set\n",
    ")\n",
    "loss, accuracy = model.evaluate(test_set)\n",
    "print(f'Test Loss: {loss}, Test Accuracy: {accuracy}')"
   ]
  },
  {
   "cell_type": "code",
   "execution_count": null,
   "id": "1aae10f8",
   "metadata": {},
   "outputs": [],
   "source": []
  }
 ],
 "metadata": {
  "kernelspec": {
   "display_name": "Python 3 (ipykernel)",
   "language": "python",
   "name": "python3"
  },
  "language_info": {
   "codemirror_mode": {
    "name": "ipython",
    "version": 3
   },
   "file_extension": ".py",
   "mimetype": "text/x-python",
   "name": "python",
   "nbconvert_exporter": "python",
   "pygments_lexer": "ipython3",
   "version": "3.10.11"
  }
 },
 "nbformat": 4,
 "nbformat_minor": 5
}
