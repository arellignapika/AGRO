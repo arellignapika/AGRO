{
 "cells": [
  {
   "cell_type": "code",
   "execution_count": 1,
   "id": "aa2eba30",
   "metadata": {},
   "outputs": [
    {
     "name": "stdout",
     "output_type": "stream",
     "text": [
      "WARNING:tensorflow:From C:\\Users\\gnapika\\AppData\\Local\\Programs\\Python\\Python310\\lib\\site-packages\\keras\\src\\losses.py:2976: The name tf.losses.sparse_softmax_cross_entropy is deprecated. Please use tf.compat.v1.losses.sparse_softmax_cross_entropy instead.\n",
      "\n"
     ]
    }
   ],
   "source": [
    "import os\n",
    "from tensorflow.keras.preprocessing.image import ImageDataGenerator, load_img, img_to_array\n",
    "\n",
    "# Path to the original dataset\n",
    "dataset_dir = './Leaf Disease Dataset'\n",
    "\n",
    "# Path to the augmented dataset\n",
    "augmented_dir = './augmented_data'\n",
    "\n",
    "# Ensuring that  the augmented directory exists\n",
    "os.makedirs(augmented_dir, exist_ok=True)\n",
    "\n",
    "\n",
    "img_size = (224, 224)\n",
    "\n",
    "# Defining  data augmentation parameters\n",
    "datagen = ImageDataGenerator(\n",
    "    rotation_range=20,\n",
    "    width_shift_range=0.2,\n",
    "    height_shift_range=0.2,\n",
    "    shear_range=0.2,\n",
    "    zoom_range=0.2,\n",
    "    horizontal_flip=True,\n",
    "    fill_mode='nearest'\n",
    ")\n",
    "\n",
    "\n",
    "for split in ['train', 'validation']:\n",
    "    split_dir = os.path.join(dataset_dir, split)\n",
    "    augmented_split_dir = os.path.join(augmented_dir, split)\n",
    "    for class_folder in os.listdir(split_dir):\n",
    "        class_dir = os.path.join(split_dir, class_folder)\n",
    "        augmented_class_dir = os.path.join(augmented_split_dir, class_folder)\n",
    "        os.makedirs(augmented_class_dir, exist_ok=True)\n",
    "        for img_name in os.listdir(class_dir):\n",
    "            img_path = os.path.join(class_dir, img_name)\n",
    "            img = load_img(img_path, target_size=img_size)\n",
    "            x = img_to_array(img)\n",
    "            x = x.reshape((1,) + x.shape)\n",
    "            i = 0\n",
    "            for batch in datagen.flow(x, save_to_dir=augmented_class_dir, save_prefix='aug', save_format='jpeg'):\n",
    "                i += 1\n",
    "                if i >= 5: \n",
    "                    break\n"
   ]
  },
  {
   "cell_type": "code",
   "execution_count": null,
   "id": "423d461e",
   "metadata": {},
   "outputs": [],
   "source": []
  }
 ],
 "metadata": {
  "kernelspec": {
   "display_name": "Python 3 (ipykernel)",
   "language": "python",
   "name": "python3"
  },
  "language_info": {
   "codemirror_mode": {
    "name": "ipython",
    "version": 3
   },
   "file_extension": ".py",
   "mimetype": "text/x-python",
   "name": "python",
   "nbconvert_exporter": "python",
   "pygments_lexer": "ipython3",
   "version": "3.10.11"
  }
 },
 "nbformat": 4,
 "nbformat_minor": 5
}
