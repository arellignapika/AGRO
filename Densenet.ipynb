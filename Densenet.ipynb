{
 "cells": [
  {
   "cell_type": "code",
   "execution_count": 1,
   "id": "80a956ad",
   "metadata": {},
   "outputs": [
    {
     "name": "stdout",
     "output_type": "stream",
     "text": [
      "WARNING:tensorflow:From C:\\Users\\gnapika\\AppData\\Local\\Programs\\Python\\Python310\\lib\\site-packages\\keras\\src\\losses.py:2976: The name tf.losses.sparse_softmax_cross_entropy is deprecated. Please use tf.compat.v1.losses.sparse_softmax_cross_entropy instead.\n",
      "\n"
     ]
    }
   ],
   "source": [
    "from tensorflow.keras.applications import DenseNet121\n",
    "from tensorflow.keras.preprocessing.image import ImageDataGenerator\n",
    "from tensorflow.keras import layers, models\n",
    "from tensorflow.keras.optimizers import Adam\n"
   ]
  },
  {
   "cell_type": "code",
   "execution_count": 2,
   "id": "2ac2b0fd",
   "metadata": {},
   "outputs": [
    {
     "name": "stdout",
     "output_type": "stream",
     "text": [
      "Found 24271 images belonging to 9 classes.\n",
      "Found 1782 images belonging to 9 classes.\n"
     ]
    }
   ],
   "source": [
    "\n",
    "# Define paths and parameters\n",
    "train_path =  './augmented_data/train'\n",
    "test_path =  './augmented_data/validation'\n",
    "target_size = (224, 224)\n",
    "batch_size = 32\n",
    "epochs = 10\n",
    "\n",
    "# Data augmentation for the training set\n",
    "train_datagen = ImageDataGenerator(\n",
    "    rescale=1./255,\n",
    "    shear_range=0.2,\n",
    "    zoom_range=0.2,\n",
    "    horizontal_flip=True\n",
    ")\n",
    "\n",
    "# Rescaling for the test set\n",
    "test_datagen = ImageDataGenerator(rescale=1./255)\n",
    "\n",
    "# Load the training set\n",
    "train_set = train_datagen.flow_from_directory(\n",
    "    train_path,\n",
    "    target_size=target_size,\n",
    "    batch_size=batch_size,\n",
    "    class_mode='categorical',\n",
    "    shuffle=True\n",
    ")\n",
    "\n",
    "# Load the test set\n",
    "test_set = test_datagen.flow_from_directory(\n",
    "    test_path,\n",
    "    target_size=target_size,\n",
    "    batch_size=batch_size,\n",
    "    class_mode='categorical',\n",
    "    shuffle=False\n",
    ")\n",
    "\n"
   ]
  },
  {
   "cell_type": "code",
   "execution_count": 5,
   "id": "b6f598c7",
   "metadata": {},
   "outputs": [
    {
     "name": "stdout",
     "output_type": "stream",
     "text": [
      "Epoch 1/10\n",
      "759/759 [==============================] - 863s 1s/step - loss: 0.9164 - accuracy: 0.6625 - val_loss: 0.3022 - val_accuracy: 0.9057\n",
      "Epoch 2/10\n",
      "759/759 [==============================] - 936s 1s/step - loss: 0.4802 - accuracy: 0.8266 - val_loss: 0.2104 - val_accuracy: 0.9444\n",
      "Epoch 3/10\n",
      "759/759 [==============================] - 934s 1s/step - loss: 0.4008 - accuracy: 0.8548 - val_loss: 0.1944 - val_accuracy: 0.9439\n",
      "Epoch 4/10\n",
      "759/759 [==============================] - 934s 1s/step - loss: 0.3640 - accuracy: 0.8680 - val_loss: 0.1603 - val_accuracy: 0.9545\n",
      "Epoch 5/10\n",
      "759/759 [==============================] - 932s 1s/step - loss: 0.3386 - accuracy: 0.8771 - val_loss: 0.1525 - val_accuracy: 0.9646\n",
      "Epoch 6/10\n",
      "759/759 [==============================] - 934s 1s/step - loss: 0.3170 - accuracy: 0.8844 - val_loss: 0.1296 - val_accuracy: 0.9590\n",
      "Epoch 7/10\n",
      "759/759 [==============================] - 939s 1s/step - loss: 0.3124 - accuracy: 0.8855 - val_loss: 0.1120 - val_accuracy: 0.9725\n",
      "Epoch 8/10\n",
      "759/759 [==============================] - 933s 1s/step - loss: 0.2924 - accuracy: 0.8945 - val_loss: 0.1218 - val_accuracy: 0.9669\n",
      "Epoch 9/10\n",
      "759/759 [==============================] - 933s 1s/step - loss: 0.2864 - accuracy: 0.8942 - val_loss: 0.1371 - val_accuracy: 0.9545\n",
      "Epoch 10/10\n",
      "759/759 [==============================] - 936s 1s/step - loss: 0.2789 - accuracy: 0.8974 - val_loss: 0.1249 - val_accuracy: 0.9568\n",
      "56/56 [==============================] - 60s 1s/step - loss: 0.1249 - accuracy: 0.9568\n",
      "Test Accuracy: 95.68%\n"
     ]
    }
   ],
   "source": [
    "# Load the pre-trained DenseNet121 model\n",
    "densenet_model = DenseNet121(weights='imagenet', include_top=False, input_shape=(224, 224, 3))\n",
    "\n",
    "# Freeze the layers in the pre-trained model\n",
    "for layer in densenet_model.layers:\n",
    "    layer.trainable = False\n",
    "\n",
    "# Build a custom model on top of DenseNet\n",
    "model = models.Sequential()\n",
    "model.add(densenet_model)\n",
    "model.add(layers.GlobalAveragePooling2D())\n",
    "model.add(layers.Dense(512, activation='relu'))\n",
    "model.add(layers.Dropout(0.5))\n",
    "model.add(layers.Dense(256, activation='relu'))\n",
    "model.add(layers.Dropout(0.5))\n",
    "model.add(layers.Dense(128, activation='relu'))\n",
    "model.add(layers.Dropout(0.5))\n",
    "model.add(layers.Dense(9, activation='softmax'))  # 9 classes\n",
    "\n",
    "# Compile the model with 'learning_rate' instead of 'lr'\n",
    "model.compile(optimizer=Adam(learning_rate=0.001), loss='categorical_crossentropy', metrics=['accuracy'])\n",
    "\n",
    "# Train the model\n",
    "history = model.fit(train_set, epochs=epochs, validation_data=test_set)\n",
    "\n",
    "# Evaluate the model\n",
    "test_accuracy = model.evaluate(test_set)[1]\n",
    "print(f'Test Accuracy: {test_accuracy * 100:.2f}%')\n"
   ]
  },
  {
   "cell_type": "code",
   "execution_count": 7,
   "id": "cd71dee4",
   "metadata": {},
   "outputs": [
    {
     "name": "stdout",
     "output_type": "stream",
     "text": [
      "Epoch 1/10\n",
      "759/759 [==============================] - 1144s 1s/step - loss: 0.3673 - accuracy: 0.8670 - val_loss: 0.1483 - val_accuracy: 0.9646\n",
      "Epoch 2/10\n",
      "759/759 [==============================] - 1089s 1s/step - loss: 0.3747 - accuracy: 0.8680 - val_loss: 0.2005 - val_accuracy: 0.9405\n",
      "Epoch 3/10\n",
      "759/759 [==============================] - 899s 1s/step - loss: 0.3655 - accuracy: 0.8713 - val_loss: 0.1907 - val_accuracy: 0.9450\n",
      "Epoch 4/10\n",
      "759/759 [==============================] - 1026s 1s/step - loss: 0.3650 - accuracy: 0.8662 - val_loss: 0.1504 - val_accuracy: 0.9686\n",
      "Epoch 5/10\n",
      "759/759 [==============================] - 903s 1s/step - loss: 0.3626 - accuracy: 0.8670 - val_loss: 0.1455 - val_accuracy: 0.9467\n",
      "Epoch 6/10\n",
      "759/759 [==============================] - 894s 1s/step - loss: 0.3807 - accuracy: 0.8638 - val_loss: 0.1527 - val_accuracy: 0.9579\n",
      "Epoch 7/10\n",
      "759/759 [==============================] - 986s 1s/step - loss: 0.3528 - accuracy: 0.8730 - val_loss: 0.1364 - val_accuracy: 0.9590\n",
      "Epoch 8/10\n",
      "759/759 [==============================] - 920s 1s/step - loss: 0.3485 - accuracy: 0.8757 - val_loss: 0.1412 - val_accuracy: 0.9635\n",
      "Epoch 9/10\n",
      "759/759 [==============================] - 1174s 2s/step - loss: 0.3412 - accuracy: 0.8788 - val_loss: 0.1648 - val_accuracy: 0.9523\n",
      "Epoch 10/10\n",
      "759/759 [==============================] - 1171s 2s/step - loss: 0.3423 - accuracy: 0.8783 - val_loss: 0.1588 - val_accuracy: 0.9461\n",
      "56/56 [==============================] - 68s 1s/step - loss: 0.1588 - accuracy: 0.9461\n",
      "Test Accuracy: 94.61%\n"
     ]
    }
   ],
   "source": [
    "model.compile(optimizer=Adam(learning_rate=0.002), loss='categorical_crossentropy', metrics=['accuracy'])\n",
    "\n",
    "# tensorboard_callback = TensorBoard(log_dir='./logs', histogram_freq=1)\n",
    "# Train the model\n",
    "history1=model.fit(train_set, epochs=epochs, validation_data=test_set)\n",
    "test_accuracy = model.evaluate(test_set)[1]\n",
    "print(f'Test Accuracy: {test_accuracy * 100:.2f}%')"
   ]
  },
  {
   "cell_type": "code",
   "execution_count": 8,
   "id": "6e5cd8ca",
   "metadata": {},
   "outputs": [
    {
     "name": "stdout",
     "output_type": "stream",
     "text": [
      "Epoch 1/10\n",
      "759/759 [==============================] - 1069s 1s/step - loss: 0.3857 - accuracy: 0.8682 - val_loss: 0.1640 - val_accuracy: 0.9484\n",
      "Epoch 2/10\n",
      "759/759 [==============================] - 1194s 2s/step - loss: 0.3878 - accuracy: 0.8631 - val_loss: 0.1867 - val_accuracy: 0.9613\n",
      "Epoch 3/10\n",
      "759/759 [==============================] - 916s 1s/step - loss: 0.3932 - accuracy: 0.8605 - val_loss: 0.1615 - val_accuracy: 0.9545\n",
      "Epoch 4/10\n",
      "759/759 [==============================] - 924s 1s/step - loss: 0.3810 - accuracy: 0.8681 - val_loss: 0.1502 - val_accuracy: 0.9596\n",
      "Epoch 5/10\n",
      "759/759 [==============================] - 959s 1s/step - loss: 0.3850 - accuracy: 0.8685 - val_loss: 0.1879 - val_accuracy: 0.9495\n",
      "Epoch 6/10\n",
      "759/759 [==============================] - 961s 1s/step - loss: 0.3699 - accuracy: 0.8669 - val_loss: 0.1345 - val_accuracy: 0.9652\n",
      "Epoch 7/10\n",
      "759/759 [==============================] - 961s 1s/step - loss: 0.3553 - accuracy: 0.8692 - val_loss: 0.1307 - val_accuracy: 0.9596\n",
      "Epoch 8/10\n",
      "759/759 [==============================] - 967s 1s/step - loss: 0.3775 - accuracy: 0.8689 - val_loss: 0.1328 - val_accuracy: 0.9568\n",
      "Epoch 9/10\n",
      "759/759 [==============================] - 1053s 1s/step - loss: 0.3835 - accuracy: 0.8621 - val_loss: 0.1554 - val_accuracy: 0.9646\n",
      "Epoch 10/10\n",
      "759/759 [==============================] - 35146s 46s/step - loss: 0.3942 - accuracy: 0.8612 - val_loss: 0.1167 - val_accuracy: 0.9669\n",
      "56/56 [==============================] - 80s 1s/step - loss: 0.1167 - accuracy: 0.9669\n",
      "Test Accuracy: 96.69%\n"
     ]
    }
   ],
   "source": [
    "model.compile(optimizer=Adam(learning_rate=0.0025), loss='categorical_crossentropy', metrics=['accuracy'])\n",
    "\n",
    "\n",
    "# Train the model\n",
    "history1=model.fit(train_set, epochs=epochs, validation_data=test_set)\n",
    "test_accuracy = model.evaluate(test_set)[1]\n",
    "print(f'Test Accuracy: {test_accuracy * 100:.2f}%')"
   ]
  },
  {
   "cell_type": "code",
   "execution_count": null,
   "id": "4f1e2e87",
   "metadata": {},
   "outputs": [],
   "source": []
  }
 ],
 "metadata": {
  "kernelspec": {
   "display_name": "Python 3 (ipykernel)",
   "language": "python",
   "name": "python3"
  },
  "language_info": {
   "codemirror_mode": {
    "name": "ipython",
    "version": 3
   },
   "file_extension": ".py",
   "mimetype": "text/x-python",
   "name": "python",
   "nbconvert_exporter": "python",
   "pygments_lexer": "ipython3",
   "version": "3.10.11"
  }
 },
 "nbformat": 4,
 "nbformat_minor": 5
}
